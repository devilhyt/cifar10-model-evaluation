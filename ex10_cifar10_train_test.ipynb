{
 "cells": [
  {
   "cell_type": "code",
   "execution_count": 1,
   "id": "f9d9472a",
   "metadata": {},
   "outputs": [],
   "source": [
    "import numpy as np\n",
    "import random\n",
    "import torch\n",
    "from torch import nn, optim\n",
    "from torchvision import datasets\n",
    "import torchvision.transforms as transforms\n",
    "from torch.utils.data.sampler import SubsetRandomSampler\n",
    "from torch.utils.data import DataLoader\n",
    "import matplotlib.pyplot as plt\n",
    "from tqdm import tqdm"
   ]
  },
  {
   "cell_type": "code",
   "execution_count": 2,
   "id": "a4bb768a",
   "metadata": {},
   "outputs": [],
   "source": [
    "import test as test\n",
    "model_file=\"test.pt\"\n",
    "epochs=100\n",
    "patience = 5\n",
    "best_loss = float('inf')\n",
    "counter = 0"
   ]
  },
  {
   "cell_type": "code",
   "execution_count": 3,
   "id": "89e0be38",
   "metadata": {},
   "outputs": [],
   "source": [
    "torch.manual_seed(10)\n",
    "np.random.seed(10)\n",
    "random.seed(10)"
   ]
  },
  {
   "cell_type": "code",
   "execution_count": 4,
   "id": "f3e7ee44",
   "metadata": {},
   "outputs": [],
   "source": [
    "transform=transforms.Compose([\n",
    "    transforms.ToTensor(),\n",
    "    transforms.Normalize(\n",
    "        mean=(0.4914,0.4822,0.4465),\n",
    "        std=(0.2470,0.2435,0.2616))\n",
    "])"
   ]
  },
  {
   "cell_type": "code",
   "execution_count": 5,
   "id": "a450727b",
   "metadata": {},
   "outputs": [
    {
     "name": "stdout",
     "output_type": "stream",
     "text": [
      "Files already downloaded and verified\n"
     ]
    },
    {
     "name": "stdout",
     "output_type": "stream",
     "text": [
      "(50000, 32, 32, 3)\n"
     ]
    }
   ],
   "source": [
    "train_data=datasets.CIFAR10('data/cifar10/train',train=True,download=True,transform=transform)\n",
    "print(train_data.data.shape)"
   ]
  },
  {
   "cell_type": "code",
   "execution_count": 6,
   "id": "ad6b8113",
   "metadata": {},
   "outputs": [],
   "source": [
    "dev_size=0.2\n",
    "idx=list(range(len(train_data)))\n",
    "np.random.shuffle(idx)\n",
    "split_size=int(np.floor(dev_size*len(train_data)))\n",
    "train_idx, dev_idx=idx[split_size:], idx[:split_size]\n",
    "train_sampler=SubsetRandomSampler(train_idx)\n",
    "dev_sampler=SubsetRandomSampler(dev_idx)"
   ]
  },
  {
   "cell_type": "code",
   "execution_count": 7,
   "id": "b8a572a1",
   "metadata": {},
   "outputs": [
    {
     "name": "stdout",
     "output_type": "stream",
     "text": [
      "400 100\n"
     ]
    }
   ],
   "source": [
    "batch_size=100\n",
    "train_loader= DataLoader(train_data,batch_size=batch_size,sampler=train_sampler)\n",
    "dev_loader= DataLoader(train_data,batch_size=batch_size,sampler=dev_sampler)\n",
    "print(len(train_loader),len(dev_loader))"
   ]
  },
  {
   "cell_type": "code",
   "execution_count": 8,
   "id": "4e90410a",
   "metadata": {},
   "outputs": [
    {
     "name": "stdout",
     "output_type": "stream",
     "text": [
      "torch.Size([100, 3, 32, 32]) torch.Size([100])\n"
     ]
    }
   ],
   "source": [
    "data_batch,label_batch=next(iter(train_loader))\n",
    "print(data_batch.size(),label_batch.size())"
   ]
  },
  {
   "cell_type": "code",
   "execution_count": 9,
   "id": "4cd615fe",
   "metadata": {},
   "outputs": [
    {
     "name": "stdout",
     "output_type": "stream",
     "text": [
      "deivce:cuda\n"
     ]
    }
   ],
   "source": [
    "device=\"cuda\" if torch.cuda.is_available() else \"cpu\"\n",
    "print(f\"deivce:{device}\")"
   ]
  },
  {
   "cell_type": "code",
   "execution_count": 10,
   "id": "0f466a8d",
   "metadata": {},
   "outputs": [],
   "source": [
    "model=test.ResNet18().to(device)"
   ]
  },
  {
   "cell_type": "code",
   "execution_count": 11,
   "id": "a9a70cb6",
   "metadata": {},
   "outputs": [],
   "source": [
    "loss_function=nn.CrossEntropyLoss()\n",
    "optimizer=optim.Adam(model.parameters(), lr=0.01)"
   ]
  },
  {
   "cell_type": "code",
   "execution_count": 12,
   "id": "31a5f82e",
   "metadata": {
    "scrolled": true
   },
   "outputs": [
    {
     "name": "stderr",
     "output_type": "stream",
     "text": [
      "  0%|          | 0/400 [00:00<?, ?it/s]"
     ]
    },
    {
     "name": "stderr",
     "output_type": "stream",
     "text": [
      "100%|██████████| 400/400 [00:24<00:00, 16.02it/s]\n",
      "100%|██████████| 100/100 [00:02<00:00, 40.60it/s]\n"
     ]
    },
    {
     "ename": "NameError",
     "evalue": "name 'scheduler' is not defined",
     "output_type": "error",
     "traceback": [
      "\u001b[0;31m---------------------------------------------------------------------------\u001b[0m",
      "\u001b[0;31mNameError\u001b[0m                                 Traceback (most recent call last)",
      "Cell \u001b[0;32mIn[12], line 41\u001b[0m\n\u001b[1;32m     38\u001b[0m train_losses\u001b[39m.\u001b[39mappend(train_loss)\n\u001b[1;32m     39\u001b[0m dev_losses\u001b[39m.\u001b[39mappend(dev_loss)\n\u001b[0;32m---> 41\u001b[0m \u001b[39mprint\u001b[39m(\u001b[39mf\u001b[39m\u001b[39m\"\u001b[39m\u001b[39mepoch: \u001b[39m\u001b[39m{\u001b[39;00mepoch\u001b[39m}\u001b[39;00m\u001b[39m, Train_loss: \u001b[39m\u001b[39m{\u001b[39;00mtrain_loss\u001b[39m:\u001b[39;00m\u001b[39m.3f\u001b[39m\u001b[39m}\u001b[39;00m\u001b[39m, Valid_loss: \u001b[39m\u001b[39m{\u001b[39;00mdev_loss\u001b[39m:\u001b[39;00m\u001b[39m.3f\u001b[39m\u001b[39m}\u001b[39;00m\u001b[39m, lr: \u001b[39m\u001b[39m{\u001b[39;00mscheduler\u001b[39m.\u001b[39mget_last_lr()[\u001b[39m0\u001b[39m]\u001b[39m}\u001b[39;00m\u001b[39m\"\u001b[39m)\n\u001b[1;32m     43\u001b[0m \u001b[39m# 每10個epoch降低2倍lr\u001b[39;00m\n\u001b[1;32m     44\u001b[0m \u001b[39m# if epoch % 10 == 0 and epoch > 0:\u001b[39;00m\n\u001b[1;32m     45\u001b[0m \u001b[39m#     lr /= 2\u001b[39;00m\n\u001b[1;32m     46\u001b[0m \u001b[39m#     for param_group in optimizer.param_groups:\u001b[39;00m\n\u001b[1;32m     47\u001b[0m \u001b[39m#         param_group['lr'] = lr\u001b[39;00m\n\u001b[1;32m     49\u001b[0m \u001b[39mif\u001b[39;00m dev_loss \u001b[39m<\u001b[39m best_loss:\n",
      "\u001b[0;31mNameError\u001b[0m: name 'scheduler' is not defined"
     ]
    }
   ],
   "source": [
    "train_losses=[]\n",
    "dev_losses=[]\n",
    "x_axis=[]\n",
    "lr = 0.01\n",
    "\n",
    "for epoch in range(epochs+1):\n",
    "    train_loss=0\n",
    "    # 訓練資料\n",
    "    model.train()\n",
    "    for data,target in tqdm(train_loader):        \n",
    "        data=data.to(device)\n",
    "        target=target.to(device)\n",
    "        \n",
    "        pred=model(data)\n",
    "        loss=loss_function(pred,target)\n",
    "        optimizer.zero_grad()\n",
    "        loss.backward()\n",
    "        optimizer.step()\n",
    "        train_loss+=loss.item()\n",
    "\n",
    "    train_loss=train_loss/len(train_loader)\n",
    "    \n",
    "    x_axis.append(epoch)\n",
    "    with torch.no_grad():\n",
    "        dev_loss=0\n",
    "        # 驗證資料\n",
    "        model.eval()\n",
    "        for data_dev,target_dev in tqdm(dev_loader):               \n",
    "            data_dev=data_dev.to(device)\n",
    "            target_dev=target_dev.to(device)\n",
    "\n",
    "            dev_pred=model(data_dev)\n",
    "            loss2=loss_function(dev_pred,target_dev)\n",
    "            dev_loss += loss2.item()\n",
    "\n",
    "        dev_loss=dev_loss/len(dev_loader)\n",
    "\n",
    "    train_losses.append(train_loss)\n",
    "    dev_losses.append(dev_loss)\n",
    "\n",
    "    print(f\"epoch: {epoch}, Train_loss: {train_loss:.3f}, Valid_loss: {dev_loss:.3f}, lr: {lr}\")\n",
    "    \n",
    "    # 每10個epoch降低2倍lr\n",
    "    # if epoch % 10 == 0 and epoch > 0:\n",
    "    #     lr /= 2\n",
    "    #     for param_group in optimizer.param_groups:\n",
    "    #         param_group['lr'] = lr\n",
    "    \n",
    "    if dev_loss < best_loss:\n",
    "        best_loss = dev_loss\n",
    "        best_epoch = epoch\n",
    "        counter = 0\n",
    "    else:\n",
    "        counter += 1\n",
    "        if counter >= patience and epoch > 50:\n",
    "            print('Early stopping at epoch', epoch)\n",
    "            break"
   ]
  },
  {
   "cell_type": "code",
   "execution_count": null,
   "id": "67ae684a",
   "metadata": {},
   "outputs": [
    {
     "data": {
      "image/png": "[encoded data removed]",
      "text/plain": [
       "<Figure size 640x480 with 1 Axes>"
      ]
     },
     "metadata": {},
     "output_type": "display_data"
    }
   ],
   "source": [
    "plt.plot(x_axis,train_losses,label=\"training loss\")\n",
    "plt.plot(x_axis,dev_losses,label=\"validation loss\")\n",
    "plt.legend(frameon=False)\n",
    "plt.xlabel('epoch')\n",
    "plt.ylabel('losses')\n",
    "plt.show()"
   ]
  },
  {
   "cell_type": "code",
   "execution_count": null,
   "id": "8f8b9e6f",
   "metadata": {},
   "outputs": [],
   "source": [
    "model=model.to(\"cpu\")\n",
    "torch.save(model.state_dict(),model_file)"
   ]
  },
  {
   "cell_type": "code",
   "execution_count": null,
   "id": "a4bdd26c",
   "metadata": {},
   "outputs": [],
   "source": []
  }
 ],
 "metadata": {
  "kernelspec": {
   "display_name": "Python 3 (ipykernel)",
   "language": "python",
   "name": "python3"
  },
  "language_info": {
   "codemirror_mode": {
    "name": "ipython",
    "version": 3
   },
   "file_extension": ".py",
   "mimetype": "text/x-python",
   "name": "python",
   "nbconvert_exporter": "python",
   "pygments_lexer": "ipython3",
   "version": "3.10.11"
  }
 },
 "nbformat": 4,
 "nbformat_minor": 5
}
