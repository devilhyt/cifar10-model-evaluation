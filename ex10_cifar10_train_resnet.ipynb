{
 "cells": [
  {
   "cell_type": "code",
   "execution_count": 1,
   "id": "f9d9472a",
   "metadata": {},
   "outputs": [],
   "source": [
    "import numpy as np\n",
    "import random\n",
    "import torch\n",
    "from torch import nn, optim\n",
    "from torchvision import datasets\n",
    "import torchvision.transforms as transforms\n",
    "from torch.utils.data.sampler import SubsetRandomSampler\n",
    "from torch.utils.data import DataLoader\n",
    "import matplotlib.pyplot as plt\n",
    "from tqdm import tqdm"
   ]
  },
  {
   "cell_type": "code",
   "execution_count": 2,
   "id": "a4bb768a",
   "metadata": {},
   "outputs": [],
   "source": [
    "import cifar10_model_resnet as cifar10_model_resnet\n",
    "model_file=\"cifar10_model_resnet.pt\"\n",
    "epochs=100\n",
    "patience = 3\n",
    "# patience_lr = 1\n",
    "best_loss = float('inf')\n",
    "counter = 0\n",
    "counter_lr = 0"
   ]
  },
  {
   "cell_type": "code",
   "execution_count": 3,
   "id": "89e0be38",
   "metadata": {},
   "outputs": [],
   "source": [
    "torch.manual_seed(10)\n",
    "np.random.seed(10)\n",
    "random.seed(10)"
   ]
  },
  {
   "cell_type": "code",
   "execution_count": 4,
   "id": "f3e7ee44",
   "metadata": {},
   "outputs": [],
   "source": [
    "# transform=transforms.Compose([\n",
    "#     transforms.ToTensor(),\n",
    "#     transforms.Normalize(\n",
    "#         mean=(0.4914,0.4822,0.4465),\n",
    "#         std=(0.2470,0.2435,0.2616))\n",
    "# ])"
   ]
  },
  {
   "cell_type": "code",
   "execution_count": 5,
   "id": "48e87e50",
   "metadata": {},
   "outputs": [],
   "source": [
    "transform_train = transforms.Compose([\n",
    "    transforms.RandomCrop(32, padding=4),  # 隨機裁剪圖像\n",
    "    transforms.RandomHorizontalFlip(),     # 隨機水平翻轉圖像\n",
    "    transforms.ToTensor(),\n",
    "    transforms.Normalize(\n",
    "        mean=(0.4914, 0.4822, 0.4465),\n",
    "        std=(0.2470, 0.2435, 0.2616))\n",
    "])"
   ]
  },
  {
   "cell_type": "code",
   "execution_count": 6,
   "id": "2ecd54ff",
   "metadata": {},
   "outputs": [
    {
     "name": "stdout",
     "output_type": "stream",
     "text": [
      "Files already downloaded and verified\n",
      "(50000, 32, 32, 3)\n"
     ]
    }
   ],
   "source": [
    "train_data = datasets.CIFAR10('data/cifar10/train', train=True, download=True, transform=transform_train)\n",
    "print(train_data.data.shape)"
   ]
  },
  {
   "cell_type": "code",
   "execution_count": 7,
   "id": "a450727b",
   "metadata": {},
   "outputs": [],
   "source": [
    "# train_data=datasets.CIFAR10('data/cifar10/train',train=True,download=True,transform=transform)\n",
    "# print(train_data.data.shape)"
   ]
  },
  {
   "cell_type": "code",
   "execution_count": 8,
   "id": "ad6b8113",
   "metadata": {},
   "outputs": [],
   "source": [
    "dev_size=0.2\n",
    "idx=list(range(len(train_data)))\n",
    "np.random.shuffle(idx)\n",
    "split_size=int(np.floor(dev_size*len(train_data)))\n",
    "train_idx, dev_idx=idx[split_size:], idx[:split_size]\n",
    "train_sampler=SubsetRandomSampler(train_idx)\n",
    "dev_sampler=SubsetRandomSampler(dev_idx)"
   ]
  },
  {
   "cell_type": "code",
   "execution_count": 9,
   "id": "b8a572a1",
   "metadata": {},
   "outputs": [
    {
     "name": "stdout",
     "output_type": "stream",
     "text": [
      "134 34\n"
     ]
    }
   ],
   "source": [
    "batch_size=300\n",
    "train_loader= DataLoader(train_data,batch_size=batch_size,sampler=train_sampler)\n",
    "dev_loader= DataLoader(train_data,batch_size=batch_size,sampler=dev_sampler)\n",
    "print(len(train_loader),len(dev_loader))"
   ]
  },
  {
   "cell_type": "code",
   "execution_count": 10,
   "id": "4e90410a",
   "metadata": {},
   "outputs": [
    {
     "name": "stdout",
     "output_type": "stream",
     "text": [
      "torch.Size([300, 3, 32, 32]) torch.Size([300])\n"
     ]
    }
   ],
   "source": [
    "data_batch,label_batch=next(iter(train_loader))\n",
    "print(data_batch.size(),label_batch.size())"
   ]
  },
  {
   "cell_type": "code",
   "execution_count": 11,
   "id": "4cd615fe",
   "metadata": {},
   "outputs": [
    {
     "name": "stdout",
     "output_type": "stream",
     "text": [
      "deivce:cuda\n"
     ]
    }
   ],
   "source": [
    "device=\"cuda\" if torch.cuda.is_available() else \"cpu\"\n",
    "print(f\"deivce:{device}\")"
   ]
  },
  {
   "cell_type": "code",
   "execution_count": 12,
   "id": "0f466a8d",
   "metadata": {},
   "outputs": [],
   "source": [
    "model=cifar10_model_resnet.CNN().to(device)"
   ]
  },
  {
   "cell_type": "code",
   "execution_count": 13,
   "id": "a9a70cb6",
   "metadata": {},
   "outputs": [],
   "source": [
    "loss_function=nn.CrossEntropyLoss()\n",
    "# optimizer=optim.Adam(model.parameters(), lr=0.001)\n",
    "optimizer = optim.SGD(model.parameters(), lr=0.01, momentum=0.9, weight_decay=5e-4)\n",
    "scheduler = torch.optim.lr_scheduler.CosineAnnealingLR(optimizer, T_max=100)"
   ]
  },
  {
   "cell_type": "code",
   "execution_count": 14,
   "id": "31a5f82e",
   "metadata": {
    "scrolled": true
   },
   "outputs": [
    {
     "name": "stderr",
     "output_type": "stream",
     "text": [
      "  0%|          | 0/134 [00:00<?, ?it/s]"
     ]
    },
    {
     "name": "stderr",
     "output_type": "stream",
     "text": [
      "100%|██████████| 134/134 [00:13<00:00, 10.22it/s]\n",
      "100%|██████████| 34/34 [00:02<00:00, 13.63it/s]\n"
     ]
    },
    {
     "name": "stdout",
     "output_type": "stream",
     "text": [
      "epoch: 0, Train_loss: 1.532, Valid_loss: 1.494, lr: 0.01\n",
      "save model\n"
     ]
    },
    {
     "name": "stderr",
     "output_type": "stream",
     "text": [
      "100%|██████████| 134/134 [00:11<00:00, 11.21it/s]\n",
      "100%|██████████| 34/34 [00:02<00:00, 13.93it/s]\n"
     ]
    },
    {
     "name": "stdout",
     "output_type": "stream",
     "text": [
      "epoch: 1, Train_loss: 1.112, Valid_loss: 1.132, lr: 0.009997532801828659\n",
      "save model\n"
     ]
    },
    {
     "name": "stderr",
     "output_type": "stream",
     "text": [
      "100%|██████████| 134/134 [00:11<00:00, 11.19it/s]\n",
      "100%|██████████| 34/34 [00:02<00:00, 13.26it/s]\n"
     ]
    },
    {
     "name": "stdout",
     "output_type": "stream",
     "text": [
      "epoch: 2, Train_loss: 0.949, Valid_loss: 1.030, lr: 0.00999013364214136\n",
      "save model\n"
     ]
    },
    {
     "name": "stderr",
     "output_type": "stream",
     "text": [
      "100%|██████████| 134/134 [00:11<00:00, 11.24it/s]\n",
      "100%|██████████| 34/34 [00:02<00:00, 13.63it/s]\n"
     ]
    },
    {
     "name": "stdout",
     "output_type": "stream",
     "text": [
      "epoch: 3, Train_loss: 0.839, Valid_loss: 0.838, lr: 0.009977809823015401\n",
      "save model\n"
     ]
    },
    {
     "name": "stderr",
     "output_type": "stream",
     "text": [
      "100%|██████████| 134/134 [00:12<00:00, 11.05it/s]\n",
      "100%|██████████| 34/34 [00:02<00:00, 13.47it/s]\n"
     ]
    },
    {
     "name": "stdout",
     "output_type": "stream",
     "text": [
      "epoch: 4, Train_loss: 0.747, Valid_loss: 0.781, lr: 0.009960573506572392\n",
      "save model\n"
     ]
    },
    {
     "name": "stderr",
     "output_type": "stream",
     "text": [
      "100%|██████████| 134/134 [00:12<00:00, 11.15it/s]\n",
      "100%|██████████| 34/34 [00:02<00:00, 13.92it/s]\n"
     ]
    },
    {
     "name": "stdout",
     "output_type": "stream",
     "text": [
      "epoch: 5, Train_loss: 0.698, Valid_loss: 0.745, lr: 0.00993844170297569\n",
      "save model\n"
     ]
    },
    {
     "name": "stderr",
     "output_type": "stream",
     "text": [
      "100%|██████████| 134/134 [00:12<00:00, 11.11it/s]\n",
      "100%|██████████| 34/34 [00:02<00:00, 13.71it/s]\n"
     ]
    },
    {
     "name": "stdout",
     "output_type": "stream",
     "text": [
      "epoch: 6, Train_loss: 0.642, Valid_loss: 0.748, lr: 0.009911436253643446\n"
     ]
    },
    {
     "name": "stderr",
     "output_type": "stream",
     "text": [
      "100%|██████████| 134/134 [00:11<00:00, 11.20it/s]\n",
      "100%|██████████| 34/34 [00:02<00:00, 13.81it/s]\n"
     ]
    },
    {
     "name": "stdout",
     "output_type": "stream",
     "text": [
      "epoch: 7, Train_loss: 0.602, Valid_loss: 0.776, lr: 0.009879583809693738\n"
     ]
    },
    {
     "name": "stderr",
     "output_type": "stream",
     "text": [
      "100%|██████████| 134/134 [00:11<00:00, 11.27it/s]\n",
      "100%|██████████| 34/34 [00:02<00:00, 13.78it/s]\n"
     ]
    },
    {
     "name": "stdout",
     "output_type": "stream",
     "text": [
      "epoch: 8, Train_loss: 0.568, Valid_loss: 0.655, lr: 0.009842915805643155\n",
      "save model\n"
     ]
    },
    {
     "name": "stderr",
     "output_type": "stream",
     "text": [
      "100%|██████████| 134/134 [00:12<00:00, 11.02it/s]\n",
      "100%|██████████| 34/34 [00:02<00:00, 13.79it/s]\n"
     ]
    },
    {
     "name": "stdout",
     "output_type": "stream",
     "text": [
      "epoch: 9, Train_loss: 0.535, Valid_loss: 0.667, lr: 0.009801468428384716\n"
     ]
    },
    {
     "name": "stderr",
     "output_type": "stream",
     "text": [
      "100%|██████████| 134/134 [00:12<00:00, 11.14it/s]\n",
      "100%|██████████| 34/34 [00:02<00:00, 13.61it/s]\n"
     ]
    },
    {
     "name": "stdout",
     "output_type": "stream",
     "text": [
      "epoch: 10, Train_loss: 0.507, Valid_loss: 0.595, lr: 0.009755282581475767\n",
      "save model\n"
     ]
    },
    {
     "name": "stderr",
     "output_type": "stream",
     "text": [
      "100%|██████████| 134/134 [00:12<00:00, 11.11it/s]\n",
      "100%|██████████| 34/34 [00:02<00:00, 13.80it/s]\n"
     ]
    },
    {
     "name": "stdout",
     "output_type": "stream",
     "text": [
      "epoch: 11, Train_loss: 0.482, Valid_loss: 0.892, lr: 0.009704403844771127\n"
     ]
    },
    {
     "name": "stderr",
     "output_type": "stream",
     "text": [
      "100%|██████████| 134/134 [00:11<00:00, 11.17it/s]\n",
      "100%|██████████| 34/34 [00:02<00:00, 13.75it/s]\n"
     ]
    },
    {
     "name": "stdout",
     "output_type": "stream",
     "text": [
      "epoch: 12, Train_loss: 0.461, Valid_loss: 0.533, lr: 0.009648882429441256\n",
      "save model\n"
     ]
    },
    {
     "name": "stderr",
     "output_type": "stream",
     "text": [
      "100%|██████████| 134/134 [00:12<00:00, 11.13it/s]\n",
      "100%|██████████| 34/34 [00:02<00:00, 13.72it/s]\n"
     ]
    },
    {
     "name": "stdout",
     "output_type": "stream",
     "text": [
      "epoch: 13, Train_loss: 0.438, Valid_loss: 0.691, lr: 0.009588773128419903\n"
     ]
    },
    {
     "name": "stderr",
     "output_type": "stream",
     "text": [
      "100%|██████████| 134/134 [00:11<00:00, 11.20it/s]\n",
      "100%|██████████| 34/34 [00:02<00:00, 13.78it/s]\n"
     ]
    },
    {
     "name": "stdout",
     "output_type": "stream",
     "text": [
      "epoch: 14, Train_loss: 0.424, Valid_loss: 0.604, lr: 0.009524135262330096\n"
     ]
    },
    {
     "name": "stderr",
     "output_type": "stream",
     "text": [
      "100%|██████████| 134/134 [00:11<00:00, 11.17it/s]\n",
      "100%|██████████| 34/34 [00:02<00:00, 13.88it/s]\n"
     ]
    },
    {
     "name": "stdout",
     "output_type": "stream",
     "text": [
      "epoch: 15, Train_loss: 0.402, Valid_loss: 0.553, lr: 0.009455032620941838\n"
     ]
    },
    {
     "name": "stderr",
     "output_type": "stream",
     "text": [
      "100%|██████████| 134/134 [00:11<00:00, 11.21it/s]\n",
      "100%|██████████| 34/34 [00:02<00:00, 13.99it/s]\n"
     ]
    },
    {
     "name": "stdout",
     "output_type": "stream",
     "text": [
      "epoch: 16, Train_loss: 0.396, Valid_loss: 0.580, lr: 0.009381533400219317\n"
     ]
    },
    {
     "name": "stderr",
     "output_type": "stream",
     "text": [
      "100%|██████████| 134/134 [00:11<00:00, 11.32it/s]\n",
      "100%|██████████| 34/34 [00:02<00:00, 13.86it/s]\n"
     ]
    },
    {
     "name": "stdout",
     "output_type": "stream",
     "text": [
      "epoch: 17, Train_loss: 0.370, Valid_loss: 0.569, lr: 0.009303710135019717\n"
     ]
    },
    {
     "name": "stderr",
     "output_type": "stream",
     "text": [
      "100%|██████████| 134/134 [00:12<00:00, 11.06it/s]\n",
      "100%|██████████| 34/34 [00:02<00:00, 13.66it/s]\n"
     ]
    },
    {
     "name": "stdout",
     "output_type": "stream",
     "text": [
      "epoch: 18, Train_loss: 0.357, Valid_loss: 0.595, lr: 0.009221639627510075\n"
     ]
    },
    {
     "name": "stderr",
     "output_type": "stream",
     "text": [
      "100%|██████████| 134/134 [00:11<00:00, 11.33it/s]\n",
      "100%|██████████| 34/34 [00:02<00:00, 13.32it/s]\n"
     ]
    },
    {
     "name": "stdout",
     "output_type": "stream",
     "text": [
      "epoch: 19, Train_loss: 0.349, Valid_loss: 0.546, lr: 0.00913540287137281\n"
     ]
    },
    {
     "name": "stderr",
     "output_type": "stream",
     "text": [
      "100%|██████████| 134/134 [00:11<00:00, 11.19it/s]\n",
      "100%|██████████| 34/34 [00:02<00:00, 13.74it/s]\n"
     ]
    },
    {
     "name": "stdout",
     "output_type": "stream",
     "text": [
      "epoch: 20, Train_loss: 0.338, Valid_loss: 0.602, lr: 0.009045084971874739\n"
     ]
    },
    {
     "name": "stderr",
     "output_type": "stream",
     "text": [
      "100%|██████████| 134/134 [00:11<00:00, 11.19it/s]\n",
      "100%|██████████| 34/34 [00:02<00:00, 13.66it/s]\n"
     ]
    },
    {
     "name": "stdout",
     "output_type": "stream",
     "text": [
      "epoch: 21, Train_loss: 0.323, Valid_loss: 0.500, lr: 0.008950775061878451\n",
      "save model\n"
     ]
    },
    {
     "name": "stderr",
     "output_type": "stream",
     "text": [
      "100%|██████████| 134/134 [00:12<00:00, 11.12it/s]\n",
      "100%|██████████| 34/34 [00:02<00:00, 13.51it/s]\n"
     ]
    },
    {
     "name": "stdout",
     "output_type": "stream",
     "text": [
      "epoch: 22, Train_loss: 0.309, Valid_loss: 0.572, lr: 0.008852566213878947\n"
     ]
    },
    {
     "name": "stderr",
     "output_type": "stream",
     "text": [
      "100%|██████████| 134/134 [00:11<00:00, 11.19it/s]\n",
      "100%|██████████| 34/34 [00:02<00:00, 13.58it/s]\n"
     ]
    },
    {
     "name": "stdout",
     "output_type": "stream",
     "text": [
      "epoch: 23, Train_loss: 0.299, Valid_loss: 0.609, lr: 0.008750555348152299\n"
     ]
    },
    {
     "name": "stderr",
     "output_type": "stream",
     "text": [
      "100%|██████████| 134/134 [00:11<00:00, 11.22it/s]\n",
      "100%|██████████| 34/34 [00:02<00:00, 13.55it/s]\n"
     ]
    },
    {
     "name": "stdout",
     "output_type": "stream",
     "text": [
      "epoch: 24, Train_loss: 0.287, Valid_loss: 0.493, lr: 0.00864484313710706\n",
      "save model\n"
     ]
    },
    {
     "name": "stderr",
     "output_type": "stream",
     "text": [
      "100%|██████████| 134/134 [00:12<00:00, 11.16it/s]\n",
      "100%|██████████| 34/34 [00:02<00:00, 13.47it/s]\n"
     ]
    },
    {
     "name": "stdout",
     "output_type": "stream",
     "text": [
      "epoch: 25, Train_loss: 0.274, Valid_loss: 0.494, lr: 0.008535533905932738\n"
     ]
    },
    {
     "name": "stderr",
     "output_type": "stream",
     "text": [
      "100%|██████████| 134/134 [00:11<00:00, 11.20it/s]\n",
      "100%|██████████| 34/34 [00:02<00:00, 13.50it/s]\n"
     ]
    },
    {
     "name": "stdout",
     "output_type": "stream",
     "text": [
      "epoch: 26, Train_loss: 0.274, Valid_loss: 0.851, lr: 0.008422735529643444\n"
     ]
    },
    {
     "name": "stderr",
     "output_type": "stream",
     "text": [
      "100%|██████████| 134/134 [00:11<00:00, 11.34it/s]\n",
      "100%|██████████| 34/34 [00:02<00:00, 13.83it/s]\n"
     ]
    },
    {
     "name": "stdout",
     "output_type": "stream",
     "text": [
      "epoch: 27, Train_loss: 0.265, Valid_loss: 0.472, lr: 0.00830655932661826\n",
      "save model\n"
     ]
    },
    {
     "name": "stderr",
     "output_type": "stream",
     "text": [
      "100%|██████████| 134/134 [00:12<00:00, 11.14it/s]\n",
      "100%|██████████| 34/34 [00:02<00:00, 13.95it/s]\n"
     ]
    },
    {
     "name": "stdout",
     "output_type": "stream",
     "text": [
      "epoch: 28, Train_loss: 0.251, Valid_loss: 0.617, lr: 0.00818711994874345\n"
     ]
    },
    {
     "name": "stderr",
     "output_type": "stream",
     "text": [
      "100%|██████████| 134/134 [00:12<00:00, 11.15it/s]\n",
      "100%|██████████| 34/34 [00:02<00:00, 13.64it/s]\n"
     ]
    },
    {
     "name": "stdout",
     "output_type": "stream",
     "text": [
      "epoch: 29, Train_loss: 0.248, Valid_loss: 0.569, lr: 0.008064535268264884\n"
     ]
    },
    {
     "name": "stderr",
     "output_type": "stream",
     "text": [
      "100%|██████████| 134/134 [00:12<00:00, 10.99it/s]\n",
      "100%|██████████| 34/34 [00:02<00:00, 12.60it/s]\n"
     ]
    },
    {
     "name": "stdout",
     "output_type": "stream",
     "text": [
      "epoch: 30, Train_loss: 0.237, Valid_loss: 0.457, lr: 0.007938926261462368\n",
      "save model\n"
     ]
    },
    {
     "name": "stderr",
     "output_type": "stream",
     "text": [
      "100%|██████████| 134/134 [00:12<00:00, 11.12it/s]\n",
      "100%|██████████| 34/34 [00:02<00:00, 13.08it/s]\n"
     ]
    },
    {
     "name": "stdout",
     "output_type": "stream",
     "text": [
      "epoch: 31, Train_loss: 0.232, Valid_loss: 0.476, lr: 0.007810416889260655\n"
     ]
    },
    {
     "name": "stderr",
     "output_type": "stream",
     "text": [
      "100%|██████████| 134/134 [00:11<00:00, 11.19it/s]\n",
      "100%|██████████| 34/34 [00:02<00:00, 13.93it/s]\n"
     ]
    },
    {
     "name": "stdout",
     "output_type": "stream",
     "text": [
      "epoch: 32, Train_loss: 0.224, Valid_loss: 0.527, lr: 0.0076791339748949845\n"
     ]
    },
    {
     "name": "stderr",
     "output_type": "stream",
     "text": [
      "100%|██████████| 134/134 [00:12<00:00, 11.05it/s]\n",
      "100%|██████████| 34/34 [00:02<00:00, 13.04it/s]\n"
     ]
    },
    {
     "name": "stdout",
     "output_type": "stream",
     "text": [
      "epoch: 33, Train_loss: 0.212, Valid_loss: 0.476, lr: 0.007545207078751858\n"
     ]
    },
    {
     "name": "stderr",
     "output_type": "stream",
     "text": [
      "100%|██████████| 134/134 [00:12<00:00, 11.08it/s]\n",
      "100%|██████████| 34/34 [00:02<00:00, 13.68it/s]\n"
     ]
    },
    {
     "name": "stdout",
     "output_type": "stream",
     "text": [
      "epoch: 34, Train_loss: 0.200, Valid_loss: 0.514, lr: 0.007408768370508578\n"
     ]
    },
    {
     "name": "stderr",
     "output_type": "stream",
     "text": [
      "100%|██████████| 134/134 [00:12<00:00, 11.03it/s]\n",
      "100%|██████████| 34/34 [00:02<00:00, 13.81it/s]\n"
     ]
    },
    {
     "name": "stdout",
     "output_type": "stream",
     "text": [
      "epoch: 35, Train_loss: 0.198, Valid_loss: 0.500, lr: 0.0072699524986977355\n"
     ]
    },
    {
     "name": "stderr",
     "output_type": "stream",
     "text": [
      "100%|██████████| 134/134 [00:12<00:00, 11.13it/s]\n",
      "100%|██████████| 34/34 [00:02<00:00, 13.62it/s]\n"
     ]
    },
    {
     "name": "stdout",
     "output_type": "stream",
     "text": [
      "epoch: 36, Train_loss: 0.185, Valid_loss: 0.460, lr: 0.007128896457825365\n"
     ]
    },
    {
     "name": "stderr",
     "output_type": "stream",
     "text": [
      "100%|██████████| 134/134 [00:12<00:00, 11.17it/s]\n",
      "100%|██████████| 34/34 [00:02<00:00, 13.79it/s]\n"
     ]
    },
    {
     "name": "stdout",
     "output_type": "stream",
     "text": [
      "epoch: 37, Train_loss: 0.183, Valid_loss: 0.487, lr: 0.006985739453173905\n"
     ]
    },
    {
     "name": "stderr",
     "output_type": "stream",
     "text": [
      "100%|██████████| 134/134 [00:11<00:00, 11.20it/s]\n",
      "100%|██████████| 34/34 [00:02<00:00, 13.86it/s]\n"
     ]
    },
    {
     "name": "stdout",
     "output_type": "stream",
     "text": [
      "epoch: 38, Train_loss: 0.178, Valid_loss: 0.413, lr: 0.006840622763423393\n",
      "save model\n"
     ]
    },
    {
     "name": "stderr",
     "output_type": "stream",
     "text": [
      "100%|██████████| 134/134 [00:11<00:00, 11.27it/s]\n",
      "100%|██████████| 34/34 [00:02<00:00, 13.66it/s]\n"
     ]
    },
    {
     "name": "stdout",
     "output_type": "stream",
     "text": [
      "epoch: 39, Train_loss: 0.175, Valid_loss: 0.472, lr: 0.00669368960122646\n"
     ]
    },
    {
     "name": "stderr",
     "output_type": "stream",
     "text": [
      "100%|██████████| 134/134 [00:12<00:00, 11.12it/s]\n",
      "100%|██████████| 34/34 [00:02<00:00, 13.31it/s]\n"
     ]
    },
    {
     "name": "stdout",
     "output_type": "stream",
     "text": [
      "epoch: 40, Train_loss: 0.168, Valid_loss: 0.463, lr: 0.00654508497187474\n"
     ]
    },
    {
     "name": "stderr",
     "output_type": "stream",
     "text": [
      "100%|██████████| 134/134 [00:12<00:00, 11.15it/s]\n",
      "100%|██████████| 34/34 [00:02<00:00, 13.42it/s]\n"
     ]
    },
    {
     "name": "stdout",
     "output_type": "stream",
     "text": [
      "epoch: 41, Train_loss: 0.153, Valid_loss: 0.465, lr: 0.00639495553019615\n"
     ]
    },
    {
     "name": "stderr",
     "output_type": "stream",
     "text": [
      "100%|██████████| 134/134 [00:12<00:00, 10.96it/s]\n",
      "100%|██████████| 34/34 [00:02<00:00, 13.88it/s]\n"
     ]
    },
    {
     "name": "stdout",
     "output_type": "stream",
     "text": [
      "epoch: 42, Train_loss: 0.149, Valid_loss: 0.453, lr: 0.006243449435824276\n"
     ]
    },
    {
     "name": "stderr",
     "output_type": "stream",
     "text": [
      "100%|██████████| 134/134 [00:11<00:00, 11.32it/s]\n",
      "100%|██████████| 34/34 [00:02<00:00, 13.94it/s]\n"
     ]
    },
    {
     "name": "stdout",
     "output_type": "stream",
     "text": [
      "epoch: 43, Train_loss: 0.143, Valid_loss: 0.453, lr: 0.006090716206982716\n"
     ]
    },
    {
     "name": "stderr",
     "output_type": "stream",
     "text": [
      "100%|██████████| 134/134 [00:11<00:00, 11.30it/s]\n",
      "100%|██████████| 34/34 [00:02<00:00, 13.83it/s]\n"
     ]
    },
    {
     "name": "stdout",
     "output_type": "stream",
     "text": [
      "epoch: 44, Train_loss: 0.138, Valid_loss: 0.441, lr: 0.005936906572928627\n"
     ]
    },
    {
     "name": "stderr",
     "output_type": "stream",
     "text": [
      "100%|██████████| 134/134 [00:12<00:00, 11.13it/s]\n",
      "100%|██████████| 34/34 [00:02<00:00, 13.93it/s]\n"
     ]
    },
    {
     "name": "stdout",
     "output_type": "stream",
     "text": [
      "epoch: 45, Train_loss: 0.135, Valid_loss: 0.471, lr: 0.005782172325201158\n"
     ]
    },
    {
     "name": "stderr",
     "output_type": "stream",
     "text": [
      "100%|██████████| 134/134 [00:12<00:00, 11.01it/s]\n",
      "100%|██████████| 34/34 [00:02<00:00, 13.51it/s]\n"
     ]
    },
    {
     "name": "stdout",
     "output_type": "stream",
     "text": [
      "epoch: 46, Train_loss: 0.129, Valid_loss: 0.477, lr: 0.0056266661678215256\n"
     ]
    },
    {
     "name": "stderr",
     "output_type": "stream",
     "text": [
      "100%|██████████| 134/134 [00:12<00:00, 11.14it/s]\n",
      "100%|██████████| 34/34 [00:02<00:00, 12.98it/s]\n"
     ]
    },
    {
     "name": "stdout",
     "output_type": "stream",
     "text": [
      "epoch: 47, Train_loss: 0.120, Valid_loss: 0.440, lr: 0.005470541566592575\n"
     ]
    },
    {
     "name": "stderr",
     "output_type": "stream",
     "text": [
      "100%|██████████| 134/134 [00:11<00:00, 11.21it/s]\n",
      "100%|██████████| 34/34 [00:02<00:00, 13.59it/s]\n"
     ]
    },
    {
     "name": "stdout",
     "output_type": "stream",
     "text": [
      "epoch: 48, Train_loss: 0.112, Valid_loss: 0.433, lr: 0.0053139525976465705\n"
     ]
    },
    {
     "name": "stderr",
     "output_type": "stream",
     "text": [
      "100%|██████████| 134/134 [00:11<00:00, 11.24it/s]\n",
      "100%|██████████| 34/34 [00:02<00:00, 13.81it/s]\n"
     ]
    },
    {
     "name": "stdout",
     "output_type": "stream",
     "text": [
      "epoch: 49, Train_loss: 0.110, Valid_loss: 0.491, lr: 0.005157053795390645\n"
     ]
    },
    {
     "name": "stderr",
     "output_type": "stream",
     "text": [
      "100%|██████████| 134/134 [00:11<00:00, 11.24it/s]\n",
      "100%|██████████| 34/34 [00:02<00:00, 13.49it/s]\n"
     ]
    },
    {
     "name": "stdout",
     "output_type": "stream",
     "text": [
      "epoch: 50, Train_loss: 0.103, Valid_loss: 0.442, lr: 0.005000000000000004\n"
     ]
    },
    {
     "name": "stderr",
     "output_type": "stream",
     "text": [
      "100%|██████████| 134/134 [00:12<00:00, 10.96it/s]\n",
      "100%|██████████| 34/34 [00:02<00:00, 13.76it/s]"
     ]
    },
    {
     "name": "stdout",
     "output_type": "stream",
     "text": [
      "epoch: 51, Train_loss: 0.099, Valid_loss: 0.427, lr: 0.004842946204609362\n",
      "Early stopping at epoch 51\n"
     ]
    },
    {
     "name": "stderr",
     "output_type": "stream",
     "text": [
      "\n"
     ]
    }
   ],
   "source": [
    "train_losses=[]\n",
    "dev_losses=[]\n",
    "x_axis=[]\n",
    "lr = 0.01\n",
    "\n",
    "for epoch in range(epochs+1):\n",
    "    train_loss=0\n",
    "    # 訓練資料\n",
    "    model.train()\n",
    "    for data,target in tqdm(train_loader):        \n",
    "        data=data.to(device)\n",
    "        target=target.to(device)\n",
    "        \n",
    "        pred=model(data)\n",
    "        loss=loss_function(pred,target)\n",
    "        optimizer.zero_grad()\n",
    "        loss.backward()\n",
    "        optimizer.step()\n",
    "        train_loss+=loss.item()\n",
    "\n",
    "    train_loss=train_loss/len(train_loader)\n",
    "    \n",
    "    x_axis.append(epoch)\n",
    "    with torch.no_grad():\n",
    "        dev_loss=0\n",
    "        # 驗證資料\n",
    "        model.eval()\n",
    "        for data_dev,target_dev in tqdm(dev_loader):               \n",
    "            data_dev=data_dev.to(device)\n",
    "            target_dev=target_dev.to(device)\n",
    "\n",
    "            dev_pred=model(data_dev)\n",
    "            loss2=loss_function(dev_pred,target_dev)\n",
    "            dev_loss += loss2.item()\n",
    "\n",
    "        dev_loss=dev_loss/len(dev_loader)\n",
    "\n",
    "    train_losses.append(train_loss)\n",
    "    dev_losses.append(dev_loss)\n",
    "\n",
    "    for param_group in optimizer.param_groups:\n",
    "        lr = param_group['lr']\n",
    "\n",
    "    print(f\"epoch: {epoch}, Train_loss: {train_loss:.3f}, Valid_loss: {dev_loss:.3f}, lr: {lr}\")\n",
    "    \n",
    "    scheduler.step()\n",
    "\n",
    "    # 每10個epoch降低2倍lr\n",
    "    # if epoch % 10 == 0 and epoch > 0:\n",
    "    #     lr /= 1.3\n",
    "    #     for param_group in optimizer.param_groups:\n",
    "    #         param_group['lr'] = lr\n",
    "    \n",
    "    if dev_loss < best_loss:\n",
    "        best_loss = dev_loss\n",
    "        print(\"save model\")\n",
    "        torch.save(model.state_dict(),model_file)\n",
    "        counter = 0\n",
    "        # counter_lr = 0\n",
    "    else:\n",
    "        counter += 1\n",
    "        # counter_lr += 1\n",
    "        # if counter_lr >= patience_lr:\n",
    "        #     optimizer.param_groups[0]['lr'] /= 1.3\n",
    "        if counter >= patience and epoch > 50:\n",
    "            print('Early stopping at epoch', epoch)\n",
    "            break"
   ]
  },
  {
   "cell_type": "code",
   "execution_count": 15,
   "id": "67ae684a",
   "metadata": {},
   "outputs": [
    {
     "data": {
      "image/png": "[encoded data removed]",
      "text/plain": [
       "<Figure size 640x480 with 1 Axes>"
      ]
     },
     "metadata": {},
     "output_type": "display_data"
    }
   ],
   "source": [
    "plt.plot(x_axis,train_losses,label=\"training loss\")\n",
    "plt.plot(x_axis,dev_losses,label=\"validation loss\")\n",
    "plt.legend(frameon=False)\n",
    "plt.xlabel('epoch')\n",
    "plt.ylabel('losses')\n",
    "plt.show()"
   ]
  },
  {
   "cell_type": "code",
   "execution_count": 16,
   "id": "8f8b9e6f",
   "metadata": {},
   "outputs": [],
   "source": [
    "# model=model.to(\"cpu\")\n",
    "# torch.save(model.state_dict(),model_file)"
   ]
  },
  {
   "cell_type": "code",
   "execution_count": null,
   "id": "a4bdd26c",
   "metadata": {},
   "outputs": [],
   "source": []
  }
 ],
 "metadata": {
  "kernelspec": {
   "display_name": "Python 3 (ipykernel)",
   "language": "python",
   "name": "python3"
  },
  "language_info": {
   "codemirror_mode": {
    "name": "ipython",
    "version": 3
   },
   "file_extension": ".py",
   "mimetype": "text/x-python",
   "name": "python",
   "nbconvert_exporter": "python",
   "pygments_lexer": "ipython3",
   "version": "3.10.11"
  }
 },
 "nbformat": 4,
 "nbformat_minor": 5
}
